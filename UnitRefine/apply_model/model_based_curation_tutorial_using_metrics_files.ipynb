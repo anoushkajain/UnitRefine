{
 "cells": [
  {
   "cell_type": "markdown",
   "metadata": {},
   "source": [
    "# Model-Based Curation Tutorial\n",
    "\n",
    "We will download a pre-trained model and apply on metrics files using Spikeinterface. "
   ]
  },
  {
   "cell_type": "code",
   "execution_count": null,
   "metadata": {},
   "outputs": [],
   "source": [
    "%pip install spikeinterface[full]"
   ]
  },
  {
   "cell_type": "code",
   "execution_count": 2,
   "metadata": {},
   "outputs": [],
   "source": [
    "import warnings\n",
    "warnings.filterwarnings(\"ignore\")\n",
    "import numpy as np\n",
    "import pandas as pd\n",
    "import matplotlib.pyplot as plt\n",
    "\n",
    "import spikeinterface.core as si\n",
    "import spikeinterface.curation as sc\n",
    "import spikeinterface.widgets as sw\n",
    "\n",
    "# note: you can use more cores using e.g.\n",
    "# si.set_global_jobs_kwargs(n_jobs = 8)\n"
   ]
  },
  {
   "cell_type": "code",
   "execution_count": null,
   "metadata": {},
   "outputs": [],
   "source": [
    "import spikeinterface\n",
    "print(spikeinterface.__version__)"
   ]
  },
  {
   "cell_type": "markdown",
   "metadata": {},
   "source": [
    "## Download a pretrained model\n",
    "\n",
    "Let's download a pretrained model from [Hugging Face](https://huggingface.co/) (HF). The\n",
    "``load_model`` function allows us to download directly from HF, or use a model in a local\n",
    "folder. The function downloads the model and saves it in a temporary folder and returns a\n",
    "model and some metadata about the model."
   ]
  },
  {
   "cell_type": "code",
   "execution_count": null,
   "metadata": {},
   "outputs": [],
   "source": [
    "model, model_info = sc.load_model(\n",
    "    repo_id = \"SpikeInterface/UnitRefine_noise_neural_classifier\",\n",
    "    trusted = ['numpy.dtype']\n",
    ")"
   ]
  },
  {
   "cell_type": "code",
   "execution_count": null,
   "metadata": {},
   "outputs": [],
   "source": [
    "model"
   ]
  },
  {
   "cell_type": "markdown",
   "metadata": {},
   "source": [
    "The model object (an sklearn Pipeline) contains information about which metrics\n",
    "were used to compute the model. We can access it from the model (or from the model_info)"
   ]
  },
  {
   "cell_type": "markdown",
   "metadata": {},
   "source": [
    "# If you only have metrics files"
   ]
  },
  {
   "cell_type": "markdown",
   "metadata": {},
   "source": [
    "If you don't have access to to sorting analyzer for a particular recording, you can still use the pretrained model to predict on a new data"
   ]
  },
  {
   "cell_type": "code",
   "execution_count": 10,
   "metadata": {},
   "outputs": [],
   "source": [
    "# Load your files\n",
    "metrics =  pd.read_csv('all_metrics.csv')"
   ]
  },
  {
   "cell_type": "code",
   "execution_count": 11,
   "metadata": {},
   "outputs": [],
   "source": [
    "columns = model.feature_names_in_\n",
    "\n",
    "classifier_preds = model.predict(metrics[columns])\n",
    "classifier_probabs = model.predict_proba(metrics[columns])"
   ]
  },
  {
   "cell_type": "code",
   "execution_count": null,
   "metadata": {},
   "outputs": [],
   "source": [
    "print(pd.Series(classifier_preds).map({1: 'noise', 0: 'neural'}))\n"
   ]
  },
  {
   "cell_type": "code",
   "execution_count": null,
   "metadata": {},
   "outputs": [],
   "source": []
  }
 ],
 "metadata": {
  "kernelspec": {
   "display_name": "spike_interface",
   "language": "python",
   "name": "python3"
  },
  "language_info": {
   "codemirror_mode": {
    "name": "ipython",
    "version": 3
   },
   "file_extension": ".py",
   "mimetype": "text/x-python",
   "name": "python",
   "nbconvert_exporter": "python",
   "pygments_lexer": "ipython3",
   "version": "3.9.21"
  }
 },
 "nbformat": 4,
 "nbformat_minor": 2
}
