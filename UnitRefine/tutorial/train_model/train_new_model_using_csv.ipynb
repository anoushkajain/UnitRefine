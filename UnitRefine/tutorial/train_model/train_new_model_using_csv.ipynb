{
 "cells": [
  {
   "cell_type": "markdown",
   "metadata": {
    "id": "qSMC2b-l8f_1"
   },
   "source": [
    "## Download Required Files\n",
    "\n",
    "To get started, download the following two files:\n",
    "\n",
    "1. **quality_metrics.csv**\n",
    "2. **cluster_group.tsv**\n",
    "\n",
    "Save these files to your computer.\n",
    "\n"
   ]
  },
  {
   "cell_type": "code",
   "execution_count": 19,
   "metadata": {},
   "outputs": [],
   "source": [
    "import warnings\n",
    "warnings.filterwarnings(\"ignore\")\n",
    "import pandas as pd \n",
    "import os\n",
    "\n",
    "import spikeinterface.core as si\n",
    "import spikeinterface.widgets as sw\n",
    "\n",
    "\n",
    "# Note, you can set the number of cores you use using e.g.\n",
    "# si.set_global_job_kwargs(n_jobs = 8)"
   ]
  },
  {
   "cell_type": "code",
   "execution_count": 20,
   "metadata": {},
   "outputs": [],
   "source": [
    "# In the cell below If you're getting an import error, try adding the root path manually in your notebook:\n",
    "\n",
    "## how to add root path manually is shown below \n",
    "# import sys\n",
    "# sys.path.append(r\"C:\\Users\\jain\\Documents\\GitHub\\UnitRefine\") # path to UnitRefine in locally directory"
   ]
  },
  {
   "cell_type": "code",
   "execution_count": null,
   "metadata": {},
   "outputs": [],
   "source": [
    "# Import necessary libraries  \n",
    "from UnitRefine.scripts.train_manual_curation import train_model"
   ]
  },
  {
   "cell_type": "code",
   "execution_count": 15,
   "metadata": {
    "id": "oAkVr5sY7dNI"
   },
   "outputs": [],
   "source": [
    "# Load the data from 'quality_metrics.csv' into a DataFrame\n",
    "metrics = pd.read_csv('quality_metrics.csv')\n",
    "\n",
    "# Define a list of column names that correspond to various quality metrics\n",
    "metrics_cols = [\n",
    "    'num_spikes', 'firing_rate', 'presence_ratio', 'snr',\n",
    "    'isi_violations_ratio', 'isi_violations_count', 'rp_contamination',\n",
    "    'rp_violations', 'sliding_rp_violation', 'amplitude_cutoff',\n",
    "    'amplitude_median', 'amplitude_cv_median', 'amplitude_cv_range',\n",
    "    'sync_spike_2', 'sync_spike_4', 'sync_spike_8', 'firing_range',\n",
    "    'drift_ptp', 'drift_std', 'drift_mad', 'isolation_distance', 'l_ratio',\n",
    "    'd_prime', 'silhouette', 'nn_hit_rate', 'nn_miss_rate'\n",
    "]\n"
   ]
  },
  {
   "cell_type": "code",
   "execution_count": 16,
   "metadata": {
    "id": "ILUpKXjh9Njp"
   },
   "outputs": [],
   "source": [
    "# Load human-curated labels from 'cluster_group.tsv' file\n",
    "# This file contains information about the quality of each cluster\n",
    "\n",
    "labels_to_train = pd.read_csv('cluster_group.tsv', sep='\\t')  # Read the file, specifying tab as the separator\n",
    "\n",
    "# Map label names to numerical values:\n",
    "# 'good' clusters are labeled as 1, while 'mua' (multi-unit activity) and 'noise' are labeled as 0\n",
    "labels_to_train = labels_to_train['group'].map({'good': 1, 'mua': 0, 'noise': 0}).to_list()\n"
   ]
  },
  {
   "cell_type": "code",
   "execution_count": 17,
   "metadata": {
    "colab": {
     "base_uri": "https://localhost:8080/"
    },
    "executionInfo": {
     "elapsed": 274,
     "status": "ok",
     "timestamp": 1731320520221,
     "user": {
      "displayName": "neuro work",
      "userId": "09036868344714389966"
     },
     "user_tz": -60
    },
    "id": "lV5Dkf4gBhjK",
    "outputId": "1c73d6e3-ba50-493e-a76c-30b5dfb58d39"
   },
   "outputs": [
    {
     "name": "stdout",
     "output_type": "stream",
     "text": [
      "Current working directory: c:\\Users\\jain\\Documents\\GitHub\\UnitRefine\\UnitRefine\\tutorial\\train_model\n"
     ]
    }
   ],
   "source": [
    "current_directory = os.getcwd()\n",
    "print(\"Current working directory:\", current_directory)"
   ]
  },
  {
   "cell_type": "markdown",
   "metadata": {
    "id": "BWFHmAwQ-Q3I"
   },
   "source": [
    "### Step: Train the Classifier with Your Data\n",
    "\n",
    "Load your dataset and the corresponding curated labels to train the classifier. Adjust parameters such as training data size, feature selection, or classifier type to observe their impact on model performance.\n",
    "\n",
    "**Note:** For improved generalizability, train the model on multiple labeled recordings from varied conditions or sessions.\n",
    "\n",
    "After training, the model will be saved as `best_model`, which can be used to make predictions on other recordings. The best-performing parameters can be seen using `best_model`.\n",
    "\n"
   ]
  },
  {
   "cell_type": "code",
   "execution_count": 18,
   "metadata": {
    "colab": {
     "base_uri": "https://localhost:8080/",
     "height": 650
    },
    "collapsed": true,
    "executionInfo": {
     "elapsed": 63065,
     "status": "ok",
     "timestamp": 1731320708731,
     "user": {
      "displayName": "neuro work",
      "userId": "09036868344714389966"
     },
     "user_tz": -60
    },
    "id": "SuzLazGn-VV-",
    "outputId": "4f885afd-250c-4093-cf07-a6e3b375bb6a"
   },
   "outputs": [
    {
     "name": "stderr",
     "output_type": "stream",
     "text": [
      "c:\\Users\\jain\\Anaconda3\\envs\\spike_interface\\lib\\site-packages\\spikeinterface\\core\\job_tools.py:103: UserWarning: `n_jobs` is not set so parallel processing is disabled! To speed up computations, it is recommended to set n_jobs either globally (with the `spikeinterface.set_global_job_kwargs()` function) or locally (with the `n_jobs` argument). Use `spikeinterface.set_global_job_kwargs?` for more information about job_kwargs.\n",
      "  warnings.warn(\n"
     ]
    },
    {
     "name": "stdout",
     "output_type": "stream",
     "text": [
      "Running RandomForestClassifier with imputation median and scaling StandardScaler()\n",
      "BayesSearchCV from scikit-optimize not available, using RandomizedSearchCV\n"
     ]
    },
    {
     "name": "stderr",
     "output_type": "stream",
     "text": [
      "c:\\Users\\jain\\Anaconda3\\envs\\spike_interface\\lib\\site-packages\\pandas\\core\\indexes\\base.py:7834: RuntimeWarning: invalid value encountered in cast\n",
      "  values = values.astype(str)\n"
     ]
    }
   ],
   "source": [
    "# We will use a list of two (identical) csv here, we would advise using more than one to improve model performance\n",
    "trainer = train_model(\n",
    "    mode = \"csv\",\n",
    "    labels = [labels_to_train,labels_to_train],\n",
    "    metrics_paths = ['quality_metrics.csv','quality_metrics.csv'], # List of paths to the metrics files\n",
    "    folder = current_directory, # Optional, can be set to save the model and model_info.json file\n",
    "    metric_names = metrics_cols, # Can be set to specify which metrics to use for training\n",
    "    imputation_strategies =  [\"median\"], # Default to all\n",
    "    scaling_techniques =  [\"standard_scaler\"], # Default to all\n",
    "    classifiers = None, # Default to Random Forest only. Other classifiers you can try [ \"AdaBoostClassifier\",\"GradientBoostingClassifier\",\n",
    "    test_size=0.2,                                                            # \"LogisticRegression\",\"MLPClassifier\"]\n",
    "    overwrite = True\n",
    ")\n",
    "\n"
   ]
  },
  {
   "cell_type": "code",
   "execution_count": null,
   "metadata": {
    "colab": {
     "base_uri": "https://localhost:8080/"
    },
    "executionInfo": {
     "elapsed": 6,
     "status": "ok",
     "timestamp": 1731320752340,
     "user": {
      "displayName": "neuro work",
      "userId": "09036868344714389966"
     },
     "user_tz": -60
    },
    "id": "E2aCPelzwhaA",
    "outputId": "59f6a4d9-ae46-42e7-e066-7f32c004884d"
   },
   "outputs": [],
   "source": [
    "trainer"
   ]
  },
  {
   "cell_type": "code",
   "execution_count": 7,
   "metadata": {
    "id": "pLfGM2LNwej2"
   },
   "outputs": [],
   "source": [
    "best_model = trainer.best_pipeline\n"
   ]
  },
  {
   "cell_type": "code",
   "execution_count": null,
   "metadata": {
    "colab": {
     "base_uri": "https://localhost:8080/",
     "height": 98
    },
    "executionInfo": {
     "elapsed": 252,
     "status": "ok",
     "timestamp": 1731320912067,
     "user": {
      "displayName": "neuro work",
      "userId": "09036868344714389966"
     },
     "user_tz": -60
    },
    "id": "lsWD0-sW_10p",
    "outputId": "6d4f1a76-afa2-4cc9-be6a-8965cf952d5b"
   },
   "outputs": [],
   "source": [
    "# Load and disply top pipelines and accuracies\n",
    "accuracies = pd.read_csv(\"model_accuracies.csv\", index_col = 0)\n",
    "accuracies.head()"
   ]
  },
  {
   "cell_type": "code",
   "execution_count": null,
   "metadata": {
    "colab": {
     "base_uri": "https://localhost:8080/",
     "height": 683
    },
    "executionInfo": {
     "elapsed": 1122,
     "status": "ok",
     "timestamp": 1731320923895,
     "user": {
      "displayName": "neuro work",
      "userId": "09036868344714389966"
     },
     "user_tz": -60
    },
    "id": "5mS-RVWEBFzA",
    "outputId": "3f4ffe7c-98c1-4608-f930-be66249ad1c3"
   },
   "outputs": [],
   "source": [
    "# Plot feature importances\n",
    "import numpy as np\n",
    "import matplotlib.pyplot as plt\n",
    "\n",
    "importances = best_model.named_steps['classifier'].feature_importances_\n",
    "indices = np.argsort(importances)[::-1]\n",
    "features = best_model.feature_names_in_\n",
    "n_features = best_model.n_features_in_\n",
    "\n",
    "plt.figure(figsize=(12, 6))\n",
    "plt.title(\"Feature Importances\")\n",
    "plt.bar(range(n_features), importances[indices], align=\"center\")\n",
    "plt.xticks(range(n_features), features, rotation=90)\n",
    "plt.xlim([-1, n_features])\n",
    "plt.show()"
   ]
  },
  {
   "cell_type": "markdown",
   "metadata": {
    "id": "5mb5TXHl_3-x"
   },
   "source": [
    "#Lets apply best_model on new data!"
   ]
  },
  {
   "cell_type": "markdown",
   "metadata": {
    "id": "_RPBQkH-Flap"
   },
   "source": [
    "## Load new_data.csv from the UnitRefine folder and apply your best_model on it"
   ]
  },
  {
   "cell_type": "code",
   "execution_count": null,
   "metadata": {
    "id": "OpsfUSGWxWta"
   },
   "outputs": [],
   "source": [
    "# read new csv file\n",
    "new_data = pd.read_csv('new_data.csv')"
   ]
  },
  {
   "cell_type": "code",
   "execution_count": null,
   "metadata": {
    "colab": {
     "base_uri": "https://localhost:8080/",
     "height": 256
    },
    "executionInfo": {
     "elapsed": 278,
     "status": "ok",
     "timestamp": 1731325658749,
     "user": {
      "displayName": "neuro work",
      "userId": "09036868344714389966"
     },
     "user_tz": -60
    },
    "id": "zuSPOIypDAWC",
    "outputId": "7e6ccad1-4737-48e1-9b50-fc1614486d0c"
   },
   "outputs": [],
   "source": [
    "new_data.head()"
   ]
  },
  {
   "cell_type": "code",
   "execution_count": 11,
   "metadata": {
    "id": "2aRQQHb3DCX3"
   },
   "outputs": [],
   "source": [
    "output_labels = best_model.predict(new_data[metrics_cols])"
   ]
  },
  {
   "cell_type": "code",
   "execution_count": 12,
   "metadata": {
    "id": "lRU0hhWoFKTF"
   },
   "outputs": [],
   "source": [
    "output_probs = best_model.predict_proba(new_data[metrics_cols])"
   ]
  },
  {
   "cell_type": "code",
   "execution_count": null,
   "metadata": {
    "colab": {
     "base_uri": "https://localhost:8080/"
    },
    "executionInfo": {
     "elapsed": 236,
     "status": "ok",
     "timestamp": 1731326102883,
     "user": {
      "displayName": "neuro work",
      "userId": "09036868344714389966"
     },
     "user_tz": -60
    },
    "id": "VQ-7K5uDDV78",
    "outputId": "c507948a-b4ac-4bea-e47e-e64e6375c057"
   },
   "outputs": [],
   "source": [
    "output_labels"
   ]
  },
  {
   "cell_type": "code",
   "execution_count": null,
   "metadata": {
    "colab": {
     "base_uri": "https://localhost:8080/"
    },
    "executionInfo": {
     "elapsed": 250,
     "status": "ok",
     "timestamp": 1731326215906,
     "user": {
      "displayName": "neuro work",
      "userId": "09036868344714389966"
     },
     "user_tz": -60
    },
    "id": "igI4LcoZE8sf",
    "outputId": "3dcb6c69-66f5-4491-9f80-b06916750634"
   },
   "outputs": [],
   "source": [
    "output_probs[:,1]# certainty of predictions for SUA"
   ]
  },
  {
   "cell_type": "code",
   "execution_count": null,
   "metadata": {},
   "outputs": [],
   "source": []
  },
  {
   "cell_type": "code",
   "execution_count": null,
   "metadata": {},
   "outputs": [],
   "source": []
  }
 ],
 "metadata": {
  "colab": {
   "authorship_tag": "ABX9TyN4A6yHPxr34bVm/qZQIYAF",
   "provenance": []
  },
  "kernelspec": {
   "display_name": "spike_interface",
   "language": "python",
   "name": "python3"
  },
  "language_info": {
   "codemirror_mode": {
    "name": "ipython",
    "version": 3
   },
   "file_extension": ".py",
   "mimetype": "text/x-python",
   "name": "python",
   "nbconvert_exporter": "python",
   "pygments_lexer": "ipython3",
   "version": "3.9.21"
  }
 },
 "nbformat": 4,
 "nbformat_minor": 0
}
