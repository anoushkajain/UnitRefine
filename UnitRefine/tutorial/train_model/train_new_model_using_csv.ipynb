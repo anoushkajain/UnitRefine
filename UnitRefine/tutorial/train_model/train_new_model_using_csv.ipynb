{
 "cells": [
  {
   "cell_type": "markdown",
   "metadata": {
    "id": "qSMC2b-l8f_1"
   },
   "source": [
    "## Download Required Files\n",
    "\n",
    "To get started, download the following two files:\n",
    "\n",
    "1. **quality_metrics.csv**\n",
    "2. **cluster_group.tsv**\n",
    "\n",
    "Save these files to your computer.\n",
    "\n"
   ]
  },
  {
   "cell_type": "code",
   "execution_count": 27,
   "metadata": {},
   "outputs": [],
   "source": [
    "import warnings\n",
    "warnings.filterwarnings(\"ignore\")\n",
    "import pandas as pd \n",
    "import os\n",
    "\n",
    "import spikeinterface.core as si\n",
    "import spikeinterface.widgets as sw\n",
    "\n",
    "\n",
    "# Note, you can set the number of cores you use using e.g.\n",
    "# si.set_global_job_kwargs(n_jobs = 8)"
   ]
  },
  {
   "cell_type": "code",
   "execution_count": 28,
   "metadata": {},
   "outputs": [],
   "source": [
    "# In the cell below If you're getting an import error, try adding the root path manually in your notebook:\n",
    "\n",
    "## how to add root path manually is shown below \n",
    "# import sys\n",
    "# sys.path.append(r\"C:\\Users\\jain\\Documents\\GitHub\\UnitRefine\") # path to UnitRefine in locally directory"
   ]
  },
  {
   "cell_type": "code",
   "execution_count": 44,
   "metadata": {},
   "outputs": [],
   "source": [
    "# Import necessary libraries  \n",
    "from UnitRefine.scripts.train_manual_curation import train_model\n",
    "\n",
    "## import from Spikeinterface package\n",
    "#from spikeinterface.curation import train_model"
   ]
  },
  {
   "cell_type": "code",
   "execution_count": 30,
   "metadata": {
    "id": "oAkVr5sY7dNI"
   },
   "outputs": [],
   "source": [
    "# Load the data from 'quality_metrics.csv' into a DataFrame\n",
    "metrics = pd.read_csv('quality_metrics.csv')\n",
    "\n",
    "# Define a list of column names that correspond to various quality metrics\n",
    "metrics_cols = [\n",
    "    'num_spikes', 'firing_rate', 'presence_ratio', 'snr',\n",
    "    'isi_violations_ratio', 'isi_violations_count', 'rp_contamination',\n",
    "    'rp_violations', 'sliding_rp_violation', 'amplitude_cutoff',\n",
    "    'amplitude_median', 'amplitude_cv_median', 'amplitude_cv_range',\n",
    "    'sync_spike_2', 'sync_spike_4', 'sync_spike_8', 'firing_range',\n",
    "    'drift_ptp', 'drift_std', 'drift_mad', 'isolation_distance', 'l_ratio',\n",
    "    'd_prime', 'silhouette', 'nn_hit_rate', 'nn_miss_rate'\n",
    "]\n"
   ]
  },
  {
   "cell_type": "code",
   "execution_count": 31,
   "metadata": {
    "id": "ILUpKXjh9Njp"
   },
   "outputs": [],
   "source": [
    "# Load human-curated labels from 'cluster_group.tsv' file\n",
    "# This file contains information about the quality of each cluster\n",
    "\n",
    "labels_to_train = pd.read_csv('cluster_group.tsv', sep='\\t')  # Read the file, specifying tab as the separator\n",
    "\n",
    "# Map label names to numerical values:\n",
    "# 'good' clusters are labeled as 1, while 'mua' (multi-unit activity) and 'noise' are labeled as 0\n",
    "labels_to_train = labels_to_train['group'].map({'good': 1, 'mua': 0, 'noise': 0}).to_list()\n"
   ]
  },
  {
   "cell_type": "code",
   "execution_count": 32,
   "metadata": {
    "colab": {
     "base_uri": "https://localhost:8080/"
    },
    "executionInfo": {
     "elapsed": 274,
     "status": "ok",
     "timestamp": 1731320520221,
     "user": {
      "displayName": "neuro work",
      "userId": "09036868344714389966"
     },
     "user_tz": -60
    },
    "id": "lV5Dkf4gBhjK",
    "outputId": "1c73d6e3-ba50-493e-a76c-30b5dfb58d39"
   },
   "outputs": [
    {
     "name": "stdout",
     "output_type": "stream",
     "text": [
      "Current working directory: c:\\Users\\jain\\Documents\\GitHub\\UnitRefine\\UnitRefine\\tutorial\\train_model\n"
     ]
    }
   ],
   "source": [
    "current_directory = os.getcwd()\n",
    "print(\"Current working directory:\", current_directory)"
   ]
  },
  {
   "cell_type": "markdown",
   "metadata": {
    "id": "BWFHmAwQ-Q3I"
   },
   "source": [
    "### Step: Train the Classifier with Your Data\n",
    "\n",
    "Load your dataset and the corresponding curated labels to train the classifier. Adjust parameters such as training data size, feature selection, or classifier type to observe their impact on model performance.\n",
    "\n",
    "**Note:** For improved generalizability, train the model on multiple labeled recordings from varied conditions or sessions.\n",
    "\n",
    "After training, the model will be saved as `best_model`, which can be used to make predictions on other recordings. The best-performing parameters can be seen using `best_model`.\n",
    "\n"
   ]
  },
  {
   "cell_type": "code",
   "execution_count": 33,
   "metadata": {
    "colab": {
     "base_uri": "https://localhost:8080/",
     "height": 650
    },
    "collapsed": true,
    "executionInfo": {
     "elapsed": 63065,
     "status": "ok",
     "timestamp": 1731320708731,
     "user": {
      "displayName": "neuro work",
      "userId": "09036868344714389966"
     },
     "user_tz": -60
    },
    "id": "SuzLazGn-VV-",
    "outputId": "4f885afd-250c-4093-cf07-a6e3b375bb6a"
   },
   "outputs": [
    {
     "name": "stdout",
     "output_type": "stream",
     "text": [
      "Running RandomForestClassifier with imputation median and scaling StandardScaler()\n",
      "BayesSearchCV from scikit-optimize not available, using RandomizedSearchCV\n"
     ]
    }
   ],
   "source": [
    "# We will use a list of two (identical) csv here, we would advise using more than one to improve model performance\n",
    "trainer = train_model(\n",
    "    mode = \"csv\",\n",
    "    labels = [labels_to_train,labels_to_train],\n",
    "    metrics_paths = ['quality_metrics.csv','quality_metrics.csv'], # List of paths to the metrics files\n",
    "    folder = current_directory, # Optional, can be set to save the model and model_info.json file\n",
    "    metric_names = metrics_cols, # Can be set to specify which metrics to use for training\n",
    "    imputation_strategies =  [\"median\"], # Default to all\n",
    "    scaling_techniques =  [\"standard_scaler\"], # Default to all\n",
    "    classifiers = None, # Default to Random Forest only. Other classifiers you can try [ \"AdaBoostClassifier\",\"GradientBoostingClassifier\",\n",
    "    test_size=0.2,                                                            # \"LogisticRegression\",\"MLPClassifier\"]\n",
    "    overwrite = True\n",
    ")\n",
    "\n"
   ]
  },
  {
   "cell_type": "code",
   "execution_count": 34,
   "metadata": {
    "colab": {
     "base_uri": "https://localhost:8080/"
    },
    "executionInfo": {
     "elapsed": 6,
     "status": "ok",
     "timestamp": 1731320752340,
     "user": {
      "displayName": "neuro work",
      "userId": "09036868344714389966"
     },
     "user_tz": -60
    },
    "id": "E2aCPelzwhaA",
    "outputId": "59f6a4d9-ae46-42e7-e066-7f32c004884d"
   },
   "outputs": [
    {
     "data": {
      "text/plain": [
       "<UnitRefine.scripts.train_manual_curation.CurationModelTrainer at 0x2156bf9b310>"
      ]
     },
     "execution_count": 34,
     "metadata": {},
     "output_type": "execute_result"
    }
   ],
   "source": [
    "trainer"
   ]
  },
  {
   "cell_type": "code",
   "execution_count": 35,
   "metadata": {
    "id": "pLfGM2LNwej2"
   },
   "outputs": [],
   "source": [
    "best_model = trainer.best_pipeline\n"
   ]
  },
  {
   "cell_type": "code",
   "execution_count": 36,
   "metadata": {
    "colab": {
     "base_uri": "https://localhost:8080/",
     "height": 98
    },
    "executionInfo": {
     "elapsed": 252,
     "status": "ok",
     "timestamp": 1731320912067,
     "user": {
      "displayName": "neuro work",
      "userId": "09036868344714389966"
     },
     "user_tz": -60
    },
    "id": "lsWD0-sW_10p",
    "outputId": "6d4f1a76-afa2-4cc9-be6a-8965cf952d5b"
   },
   "outputs": [
    {
     "data": {
      "text/html": [
       "<div>\n",
       "<style scoped>\n",
       "    .dataframe tbody tr th:only-of-type {\n",
       "        vertical-align: middle;\n",
       "    }\n",
       "\n",
       "    .dataframe tbody tr th {\n",
       "        vertical-align: top;\n",
       "    }\n",
       "\n",
       "    .dataframe thead th {\n",
       "        text-align: right;\n",
       "    }\n",
       "</style>\n",
       "<table border=\"1\" class=\"dataframe\">\n",
       "  <thead>\n",
       "    <tr style=\"text-align: right;\">\n",
       "      <th></th>\n",
       "      <th>classifier name</th>\n",
       "      <th>imputation_strategy</th>\n",
       "      <th>scaling_strategy</th>\n",
       "      <th>balanced_accuracy</th>\n",
       "      <th>precision</th>\n",
       "      <th>recall</th>\n",
       "      <th>model_id</th>\n",
       "      <th>best_params</th>\n",
       "    </tr>\n",
       "  </thead>\n",
       "  <tbody>\n",
       "    <tr>\n",
       "      <th>0</th>\n",
       "      <td>RandomForestClassifier</td>\n",
       "      <td>median</td>\n",
       "      <td>StandardScaler()</td>\n",
       "      <td>0.8766</td>\n",
       "      <td>0.9423</td>\n",
       "      <td>0.8766</td>\n",
       "      <td>0</td>\n",
       "      <td>{'n_estimators': 150, 'min_samples_split': 2, ...</td>\n",
       "    </tr>\n",
       "  </tbody>\n",
       "</table>\n",
       "</div>"
      ],
      "text/plain": [
       "          classifier name imputation_strategy  scaling_strategy  \\\n",
       "0  RandomForestClassifier              median  StandardScaler()   \n",
       "\n",
       "   balanced_accuracy  precision  recall  model_id  \\\n",
       "0             0.8766     0.9423  0.8766         0   \n",
       "\n",
       "                                         best_params  \n",
       "0  {'n_estimators': 150, 'min_samples_split': 2, ...  "
      ]
     },
     "execution_count": 36,
     "metadata": {},
     "output_type": "execute_result"
    }
   ],
   "source": [
    "# Load and disply top pipelines and accuracies\n",
    "accuracies = pd.read_csv(\"model_accuracies.csv\", index_col = 0)\n",
    "accuracies.head()"
   ]
  },
  {
   "cell_type": "code",
   "execution_count": 37,
   "metadata": {
    "colab": {
     "base_uri": "https://localhost:8080/",
     "height": 683
    },
    "executionInfo": {
     "elapsed": 1122,
     "status": "ok",
     "timestamp": 1731320923895,
     "user": {
      "displayName": "neuro work",
      "userId": "09036868344714389966"
     },
     "user_tz": -60
    },
    "id": "5mS-RVWEBFzA",
    "outputId": "3f4ffe7c-98c1-4608-f930-be66249ad1c3"
   },
   "outputs": [
    {
     "data": {
      "image/png": "[encoded data removed]",
      "text/plain": [
       "<Figure size 1200x600 with 1 Axes>"
      ]
     },
     "metadata": {},
     "output_type": "display_data"
    }
   ],
   "source": [
    "# Plot feature importances\n",
    "import numpy as np\n",
    "import matplotlib.pyplot as plt\n",
    "\n",
    "importances = best_model.named_steps['classifier'].feature_importances_\n",
    "indices = np.argsort(importances)[::-1]\n",
    "features = best_model.feature_names_in_\n",
    "n_features = best_model.n_features_in_\n",
    "\n",
    "plt.figure(figsize=(12, 6))\n",
    "plt.title(\"Feature Importances\")\n",
    "plt.bar(range(n_features), importances[indices], align=\"center\")\n",
    "plt.xticks(range(n_features), features, rotation=90)\n",
    "plt.xlim([-1, n_features])\n",
    "plt.show()"
   ]
  },
  {
   "cell_type": "markdown",
   "metadata": {
    "id": "5mb5TXHl_3-x"
   },
   "source": [
    "#Lets apply best_model on new data!"
   ]
  },
  {
   "cell_type": "markdown",
   "metadata": {
    "id": "_RPBQkH-Flap"
   },
   "source": [
    "## Load new_data.csv from the UnitRefine folder and apply your best_model on it"
   ]
  },
  {
   "cell_type": "code",
   "execution_count": 38,
   "metadata": {
    "id": "OpsfUSGWxWta"
   },
   "outputs": [],
   "source": [
    "# read new csv file\n",
    "new_data = pd.read_csv('new_data.csv')"
   ]
  },
  {
   "cell_type": "code",
   "execution_count": 39,
   "metadata": {
    "colab": {
     "base_uri": "https://localhost:8080/",
     "height": 256
    },
    "executionInfo": {
     "elapsed": 278,
     "status": "ok",
     "timestamp": 1731325658749,
     "user": {
      "displayName": "neuro work",
      "userId": "09036868344714389966"
     },
     "user_tz": -60
    },
    "id": "zuSPOIypDAWC",
    "outputId": "7e6ccad1-4737-48e1-9b50-fc1614486d0c"
   },
   "outputs": [
    {
     "data": {
      "text/html": [
       "<div>\n",
       "<style scoped>\n",
       "    .dataframe tbody tr th:only-of-type {\n",
       "        vertical-align: middle;\n",
       "    }\n",
       "\n",
       "    .dataframe tbody tr th {\n",
       "        vertical-align: top;\n",
       "    }\n",
       "\n",
       "    .dataframe thead th {\n",
       "        text-align: right;\n",
       "    }\n",
       "</style>\n",
       "<table border=\"1\" class=\"dataframe\">\n",
       "  <thead>\n",
       "    <tr style=\"text-align: right;\">\n",
       "      <th></th>\n",
       "      <th>cluster_id</th>\n",
       "      <th>num_spikes</th>\n",
       "      <th>firing_rate</th>\n",
       "      <th>presence_ratio</th>\n",
       "      <th>snr</th>\n",
       "      <th>isi_violations_ratio</th>\n",
       "      <th>isi_violations_count</th>\n",
       "      <th>rp_contamination</th>\n",
       "      <th>rp_violations</th>\n",
       "      <th>sliding_rp_violation</th>\n",
       "      <th>...</th>\n",
       "      <th>half_width</th>\n",
       "      <th>repolarization_slope</th>\n",
       "      <th>recovery_slope</th>\n",
       "      <th>num_positive_peaks</th>\n",
       "      <th>num_negative_peaks</th>\n",
       "      <th>velocity_above</th>\n",
       "      <th>velocity_below</th>\n",
       "      <th>exp_decay</th>\n",
       "      <th>spread</th>\n",
       "      <th>cluster_id.1</th>\n",
       "    </tr>\n",
       "  </thead>\n",
       "  <tbody>\n",
       "    <tr>\n",
       "      <th>0</th>\n",
       "      <td>459</td>\n",
       "      <td>7554.0</td>\n",
       "      <td>0.991884</td>\n",
       "      <td>0.825397</td>\n",
       "      <td>12.204892</td>\n",
       "      <td>0.000000</td>\n",
       "      <td>0.0</td>\n",
       "      <td>0.000000</td>\n",
       "      <td>0.0</td>\n",
       "      <td>0.09</td>\n",
       "      <td>...</td>\n",
       "      <td>0.000177</td>\n",
       "      <td>409416.50</td>\n",
       "      <td>-73214.555</td>\n",
       "      <td>1.0</td>\n",
       "      <td>1.0</td>\n",
       "      <td>NaN</td>\n",
       "      <td>1005.7152</td>\n",
       "      <td>0.033996</td>\n",
       "      <td>100.0</td>\n",
       "      <td>459</td>\n",
       "    </tr>\n",
       "    <tr>\n",
       "      <th>1</th>\n",
       "      <td>347</td>\n",
       "      <td>48762.0</td>\n",
       "      <td>6.402733</td>\n",
       "      <td>1.000000</td>\n",
       "      <td>5.323073</td>\n",
       "      <td>0.358733</td>\n",
       "      <td>336.0</td>\n",
       "      <td>0.456548</td>\n",
       "      <td>220.0</td>\n",
       "      <td>0.28</td>\n",
       "      <td>...</td>\n",
       "      <td>0.000170</td>\n",
       "      <td>418076.47</td>\n",
       "      <td>-56493.640</td>\n",
       "      <td>1.0</td>\n",
       "      <td>1.0</td>\n",
       "      <td>NaN</td>\n",
       "      <td>495.7309</td>\n",
       "      <td>0.030732</td>\n",
       "      <td>120.0</td>\n",
       "      <td>347</td>\n",
       "    </tr>\n",
       "    <tr>\n",
       "      <th>2</th>\n",
       "      <td>178</td>\n",
       "      <td>140.0</td>\n",
       "      <td>0.018383</td>\n",
       "      <td>0.325397</td>\n",
       "      <td>5.208024</td>\n",
       "      <td>0.000000</td>\n",
       "      <td>0.0</td>\n",
       "      <td>0.000000</td>\n",
       "      <td>0.0</td>\n",
       "      <td>NaN</td>\n",
       "      <td>...</td>\n",
       "      <td>0.000180</td>\n",
       "      <td>129573.65</td>\n",
       "      <td>-12767.139</td>\n",
       "      <td>1.0</td>\n",
       "      <td>1.0</td>\n",
       "      <td>NaN</td>\n",
       "      <td>NaN</td>\n",
       "      <td>0.020515</td>\n",
       "      <td>120.0</td>\n",
       "      <td>178</td>\n",
       "    </tr>\n",
       "    <tr>\n",
       "      <th>3</th>\n",
       "      <td>87</td>\n",
       "      <td>686.0</td>\n",
       "      <td>0.090076</td>\n",
       "      <td>0.960317</td>\n",
       "      <td>5.549027</td>\n",
       "      <td>0.000000</td>\n",
       "      <td>0.0</td>\n",
       "      <td>0.000000</td>\n",
       "      <td>0.0</td>\n",
       "      <td>NaN</td>\n",
       "      <td>...</td>\n",
       "      <td>0.000170</td>\n",
       "      <td>586757.25</td>\n",
       "      <td>-64506.984</td>\n",
       "      <td>1.0</td>\n",
       "      <td>1.0</td>\n",
       "      <td>412.77590</td>\n",
       "      <td>NaN</td>\n",
       "      <td>0.045614</td>\n",
       "      <td>120.0</td>\n",
       "      <td>87</td>\n",
       "    </tr>\n",
       "    <tr>\n",
       "      <th>4</th>\n",
       "      <td>338</td>\n",
       "      <td>15684.0</td>\n",
       "      <td>2.059400</td>\n",
       "      <td>1.000000</td>\n",
       "      <td>8.601093</td>\n",
       "      <td>4.437615</td>\n",
       "      <td>430.0</td>\n",
       "      <td>1.000000</td>\n",
       "      <td>322.0</td>\n",
       "      <td>NaN</td>\n",
       "      <td>...</td>\n",
       "      <td>0.000163</td>\n",
       "      <td>287102.75</td>\n",
       "      <td>-33741.290</td>\n",
       "      <td>2.0</td>\n",
       "      <td>1.0</td>\n",
       "      <td>318.68643</td>\n",
       "      <td>NaN</td>\n",
       "      <td>0.031914</td>\n",
       "      <td>60.0</td>\n",
       "      <td>338</td>\n",
       "    </tr>\n",
       "  </tbody>\n",
       "</table>\n",
       "<p>5 rows × 39 columns</p>\n",
       "</div>"
      ],
      "text/plain": [
       "   cluster_id  num_spikes  firing_rate  presence_ratio        snr  \\\n",
       "0         459      7554.0     0.991884        0.825397  12.204892   \n",
       "1         347     48762.0     6.402733        1.000000   5.323073   \n",
       "2         178       140.0     0.018383        0.325397   5.208024   \n",
       "3          87       686.0     0.090076        0.960317   5.549027   \n",
       "4         338     15684.0     2.059400        1.000000   8.601093   \n",
       "\n",
       "   isi_violations_ratio  isi_violations_count  rp_contamination  \\\n",
       "0              0.000000                   0.0          0.000000   \n",
       "1              0.358733                 336.0          0.456548   \n",
       "2              0.000000                   0.0          0.000000   \n",
       "3              0.000000                   0.0          0.000000   \n",
       "4              4.437615                 430.0          1.000000   \n",
       "\n",
       "   rp_violations  sliding_rp_violation  ...  half_width  repolarization_slope  \\\n",
       "0            0.0                  0.09  ...    0.000177             409416.50   \n",
       "1          220.0                  0.28  ...    0.000170             418076.47   \n",
       "2            0.0                   NaN  ...    0.000180             129573.65   \n",
       "3            0.0                   NaN  ...    0.000170             586757.25   \n",
       "4          322.0                   NaN  ...    0.000163             287102.75   \n",
       "\n",
       "   recovery_slope  num_positive_peaks  num_negative_peaks  velocity_above  \\\n",
       "0      -73214.555                 1.0                 1.0             NaN   \n",
       "1      -56493.640                 1.0                 1.0             NaN   \n",
       "2      -12767.139                 1.0                 1.0             NaN   \n",
       "3      -64506.984                 1.0                 1.0       412.77590   \n",
       "4      -33741.290                 2.0                 1.0       318.68643   \n",
       "\n",
       "   velocity_below  exp_decay  spread  cluster_id.1  \n",
       "0       1005.7152   0.033996   100.0           459  \n",
       "1        495.7309   0.030732   120.0           347  \n",
       "2             NaN   0.020515   120.0           178  \n",
       "3             NaN   0.045614   120.0            87  \n",
       "4             NaN   0.031914    60.0           338  \n",
       "\n",
       "[5 rows x 39 columns]"
      ]
     },
     "execution_count": 39,
     "metadata": {},
     "output_type": "execute_result"
    }
   ],
   "source": [
    "new_data.head()"
   ]
  },
  {
   "cell_type": "code",
   "execution_count": 40,
   "metadata": {
    "id": "2aRQQHb3DCX3"
   },
   "outputs": [],
   "source": [
    "output_labels = best_model.predict(new_data[metrics_cols])"
   ]
  },
  {
   "cell_type": "code",
   "execution_count": 41,
   "metadata": {
    "id": "lRU0hhWoFKTF"
   },
   "outputs": [],
   "source": [
    "output_probs = best_model.predict_proba(new_data[metrics_cols])"
   ]
  },
  {
   "cell_type": "code",
   "execution_count": 42,
   "metadata": {
    "colab": {
     "base_uri": "https://localhost:8080/"
    },
    "executionInfo": {
     "elapsed": 236,
     "status": "ok",
     "timestamp": 1731326102883,
     "user": {
      "displayName": "neuro work",
      "userId": "09036868344714389966"
     },
     "user_tz": -60
    },
    "id": "VQ-7K5uDDV78",
    "outputId": "c507948a-b4ac-4bea-e47e-e64e6375c057"
   },
   "outputs": [
    {
     "data": {
      "text/plain": [
       "array([1, 0, 0, 0, 0, 0, 0, 0, 0, 1, 0, 0, 1, 0, 0, 0, 0, 0, 0, 0, 0, 0,\n",
       "       1, 0, 0, 0, 0, 0, 1, 1, 1, 0, 0, 0, 0, 0, 0, 0, 1, 0, 0, 0, 0, 0,\n",
       "       1, 0, 0, 1, 0, 0])"
      ]
     },
     "execution_count": 42,
     "metadata": {},
     "output_type": "execute_result"
    }
   ],
   "source": [
    "output_labels"
   ]
  },
  {
   "cell_type": "code",
   "execution_count": 43,
   "metadata": {
    "colab": {
     "base_uri": "https://localhost:8080/"
    },
    "executionInfo": {
     "elapsed": 250,
     "status": "ok",
     "timestamp": 1731326215906,
     "user": {
      "displayName": "neuro work",
      "userId": "09036868344714389966"
     },
     "user_tz": -60
    },
    "id": "igI4LcoZE8sf",
    "outputId": "3dcb6c69-66f5-4491-9f80-b06916750634"
   },
   "outputs": [
    {
     "data": {
      "text/plain": [
       "array([0.83446905, 0.07919947, 0.00614821, 0.31478679, 0.0180758 ,\n",
       "       0.0372128 , 0.        , 0.        , 0.00570457, 0.65929855,\n",
       "       0.01871799, 0.        , 0.60592354, 0.00532064, 0.        ,\n",
       "       0.15258264, 0.00666667, 0.01769188, 0.05125949, 0.42539826,\n",
       "       0.01333333, 0.01281487, 0.71685796, 0.09081585, 0.        ,\n",
       "       0.03006311, 0.16147552, 0.        , 0.8666826 , 0.93254515,\n",
       "       0.92370555, 0.0190379 , 0.01865398, 0.18898043, 0.13891622,\n",
       "       0.        , 0.0374197 , 0.01306362, 0.79984958, 0.00739171,\n",
       "       0.00168715, 0.00783535, 0.01502048, 0.        , 0.65753072,\n",
       "       0.        , 0.        , 0.68482531, 0.        , 0.        ])"
      ]
     },
     "execution_count": 43,
     "metadata": {},
     "output_type": "execute_result"
    }
   ],
   "source": [
    "output_probs[:,1]# certainty of predictions for SUA"
   ]
  }
 ],
 "metadata": {
  "colab": {
   "authorship_tag": "ABX9TyN4A6yHPxr34bVm/qZQIYAF",
   "provenance": []
  },
  "kernelspec": {
   "display_name": "spike_interface",
   "language": "python",
   "name": "python3"
  },
  "language_info": {
   "codemirror_mode": {
    "name": "ipython",
    "version": 3
   },
   "file_extension": ".py",
   "mimetype": "text/x-python",
   "name": "python",
   "nbconvert_exporter": "python",
   "pygments_lexer": "ipython3",
   "version": "3.9.21"
  }
 },
 "nbformat": 4,
 "nbformat_minor": 0
}
